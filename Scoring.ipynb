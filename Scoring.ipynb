{
 "cells": [
  {
   "cell_type": "code",
   "execution_count": 1,
   "metadata": {},
   "outputs": [],
   "source": [
    "from useful_functions import *"
   ]
  },
  {
   "cell_type": "code",
   "execution_count": 2,
   "metadata": {},
   "outputs": [],
   "source": [
    "ge10, ge15, ge17 = read_in_election_results() "
   ]
  },
  {
   "cell_type": "markdown",
   "metadata": {},
   "source": [
    "### Original method"
   ]
  },
  {
   "cell_type": "code",
   "execution_count": 3,
   "metadata": {},
   "outputs": [],
   "source": [
    "diff = score_campaigns_difference(ge17, ge15)"
   ]
  },
  {
   "cell_type": "code",
   "execution_count": 4,
   "metadata": {},
   "outputs": [
    {
     "data": {
      "text/html": [
       "<div>\n",
       "<style scoped>\n",
       "    .dataframe tbody tr th:only-of-type {\n",
       "        vertical-align: middle;\n",
       "    }\n",
       "\n",
       "    .dataframe tbody tr th {\n",
       "        vertical-align: top;\n",
       "    }\n",
       "\n",
       "    .dataframe thead th {\n",
       "        text-align: right;\n",
       "    }\n",
       "</style>\n",
       "<table border=\"1\" class=\"dataframe\">\n",
       "  <thead>\n",
       "    <tr style=\"text-align: right;\">\n",
       "      <th></th>\n",
       "      <th>prev_election</th>\n",
       "      <th>election_result</th>\n",
       "      <th>change</th>\n",
       "    </tr>\n",
       "  </thead>\n",
       "  <tbody>\n",
       "    <tr>\n",
       "      <th>E14000530</th>\n",
       "      <td>8468.0</td>\n",
       "      <td>15477.0</td>\n",
       "      <td>7009.0</td>\n",
       "    </tr>\n",
       "    <tr>\n",
       "      <th>E14000531</th>\n",
       "      <td>8835.0</td>\n",
       "      <td>12010.0</td>\n",
       "      <td>3175.0</td>\n",
       "    </tr>\n",
       "    <tr>\n",
       "      <th>E14000532</th>\n",
       "      <td>13481.0</td>\n",
       "      <td>20507.0</td>\n",
       "      <td>7026.0</td>\n",
       "    </tr>\n",
       "    <tr>\n",
       "      <th>E14000533</th>\n",
       "      <td>15901.0</td>\n",
       "      <td>17605.0</td>\n",
       "      <td>1704.0</td>\n",
       "    </tr>\n",
       "    <tr>\n",
       "      <th>E14000534</th>\n",
       "      <td>6324.0</td>\n",
       "      <td>13690.0</td>\n",
       "      <td>7366.0</td>\n",
       "    </tr>\n",
       "  </tbody>\n",
       "</table>\n",
       "</div>"
      ],
      "text/plain": [
       "           prev_election  election_result  change\n",
       "E14000530         8468.0          15477.0  7009.0\n",
       "E14000531         8835.0          12010.0  3175.0\n",
       "E14000532        13481.0          20507.0  7026.0\n",
       "E14000533        15901.0          17605.0  1704.0\n",
       "E14000534         6324.0          13690.0  7366.0"
      ]
     },
     "execution_count": 4,
     "metadata": {},
     "output_type": "execute_result"
    }
   ],
   "source": [
    "diff.sort_index().head()"
   ]
  },
  {
   "cell_type": "markdown",
   "metadata": {},
   "source": [
    "### Uniform national swing \n",
    "i.e. just add GB swing to prev_election, works for ge17 and ge15"
   ]
  },
  {
   "cell_type": "code",
   "execution_count": 7,
   "metadata": {},
   "outputs": [],
   "source": [
    "uns_17 = score_campaigns_uns(ge17, ge15)"
   ]
  },
  {
   "cell_type": "code",
   "execution_count": 8,
   "metadata": {},
   "outputs": [
    {
     "data": {
      "text/html": [
       "<div>\n",
       "<style scoped>\n",
       "    .dataframe tbody tr th:only-of-type {\n",
       "        vertical-align: middle;\n",
       "    }\n",
       "\n",
       "    .dataframe tbody tr th {\n",
       "        vertical-align: top;\n",
       "    }\n",
       "\n",
       "    .dataframe thead th {\n",
       "        text-align: right;\n",
       "    }\n",
       "</style>\n",
       "<table border=\"1\" class=\"dataframe\">\n",
       "  <thead>\n",
       "    <tr style=\"text-align: right;\">\n",
       "      <th></th>\n",
       "      <th>prev_election</th>\n",
       "      <th>election_result</th>\n",
       "      <th>uns</th>\n",
       "      <th>difference</th>\n",
       "    </tr>\n",
       "  </thead>\n",
       "  <tbody>\n",
       "    <tr>\n",
       "      <th>E14000530</th>\n",
       "      <td>0.183326</td>\n",
       "      <td>0.316180</td>\n",
       "      <td>0.281326</td>\n",
       "      <td>0.034854</td>\n",
       "    </tr>\n",
       "    <tr>\n",
       "      <th>E14000531</th>\n",
       "      <td>0.223688</td>\n",
       "      <td>0.298496</td>\n",
       "      <td>0.321688</td>\n",
       "      <td>-0.023192</td>\n",
       "    </tr>\n",
       "    <tr>\n",
       "      <th>E14000532</th>\n",
       "      <td>0.266861</td>\n",
       "      <td>0.388464</td>\n",
       "      <td>0.364861</td>\n",
       "      <td>0.023603</td>\n",
       "    </tr>\n",
       "    <tr>\n",
       "      <th>E14000533</th>\n",
       "      <td>0.347814</td>\n",
       "      <td>0.384296</td>\n",
       "      <td>0.445814</td>\n",
       "      <td>-0.061517</td>\n",
       "    </tr>\n",
       "    <tr>\n",
       "      <th>E14000534</th>\n",
       "      <td>0.111975</td>\n",
       "      <td>0.227197</td>\n",
       "      <td>0.209975</td>\n",
       "      <td>0.017223</td>\n",
       "    </tr>\n",
       "  </tbody>\n",
       "</table>\n",
       "</div>"
      ],
      "text/plain": [
       "           prev_election  election_result       uns  difference\n",
       "E14000530       0.183326         0.316180  0.281326    0.034854\n",
       "E14000531       0.223688         0.298496  0.321688   -0.023192\n",
       "E14000532       0.266861         0.388464  0.364861    0.023603\n",
       "E14000533       0.347814         0.384296  0.445814   -0.061517\n",
       "E14000534       0.111975         0.227197  0.209975    0.017223"
      ]
     },
     "execution_count": 8,
     "metadata": {},
     "output_type": "execute_result"
    }
   ],
   "source": [
    "uns_17.head()"
   ]
  },
  {
   "cell_type": "code",
   "execution_count": 9,
   "metadata": {},
   "outputs": [],
   "source": [
    "uns_15 = score_campaigns_uns(ge15, ge10)"
   ]
  },
  {
   "cell_type": "code",
   "execution_count": 10,
   "metadata": {},
   "outputs": [
    {
     "data": {
      "text/html": [
       "<div>\n",
       "<style scoped>\n",
       "    .dataframe tbody tr th:only-of-type {\n",
       "        vertical-align: middle;\n",
       "    }\n",
       "\n",
       "    .dataframe tbody tr th {\n",
       "        vertical-align: top;\n",
       "    }\n",
       "\n",
       "    .dataframe thead th {\n",
       "        text-align: right;\n",
       "    }\n",
       "</style>\n",
       "<table border=\"1\" class=\"dataframe\">\n",
       "  <thead>\n",
       "    <tr style=\"text-align: right;\">\n",
       "      <th></th>\n",
       "      <th>prev_election</th>\n",
       "      <th>election_result</th>\n",
       "      <th>uns</th>\n",
       "      <th>difference</th>\n",
       "    </tr>\n",
       "    <tr>\n",
       "      <th>ons_id</th>\n",
       "      <th></th>\n",
       "      <th></th>\n",
       "      <th></th>\n",
       "      <th></th>\n",
       "    </tr>\n",
       "  </thead>\n",
       "  <tbody>\n",
       "    <tr>\n",
       "      <th>E14000530</th>\n",
       "      <td>0.120946</td>\n",
       "      <td>0.183326</td>\n",
       "      <td>0.135946</td>\n",
       "      <td>0.047380</td>\n",
       "    </tr>\n",
       "    <tr>\n",
       "      <th>E14000531</th>\n",
       "      <td>0.197934</td>\n",
       "      <td>0.223688</td>\n",
       "      <td>0.212934</td>\n",
       "      <td>0.010753</td>\n",
       "    </tr>\n",
       "    <tr>\n",
       "      <th>E14000532</th>\n",
       "      <td>0.224182</td>\n",
       "      <td>0.266861</td>\n",
       "      <td>0.239182</td>\n",
       "      <td>0.027679</td>\n",
       "    </tr>\n",
       "    <tr>\n",
       "      <th>E14000533</th>\n",
       "      <td>0.374472</td>\n",
       "      <td>0.347814</td>\n",
       "      <td>0.389472</td>\n",
       "      <td>-0.041659</td>\n",
       "    </tr>\n",
       "    <tr>\n",
       "      <th>E14000534</th>\n",
       "      <td>0.086367</td>\n",
       "      <td>0.111975</td>\n",
       "      <td>0.101367</td>\n",
       "      <td>0.010608</td>\n",
       "    </tr>\n",
       "  </tbody>\n",
       "</table>\n",
       "</div>"
      ],
      "text/plain": [
       "           prev_election  election_result       uns  difference\n",
       "ons_id                                                         \n",
       "E14000530       0.120946         0.183326  0.135946    0.047380\n",
       "E14000531       0.197934         0.223688  0.212934    0.010753\n",
       "E14000532       0.224182         0.266861  0.239182    0.027679\n",
       "E14000533       0.374472         0.347814  0.389472   -0.041659\n",
       "E14000534       0.086367         0.111975  0.101367    0.010608"
      ]
     },
     "execution_count": 10,
     "metadata": {},
     "output_type": "execute_result"
    }
   ],
   "source": [
    "uns_15.head()"
   ]
  },
  {
   "cell_type": "markdown",
   "metadata": {},
   "source": [
    "### YouGov mrp [model](https://yougov.co.uk/uk-general-election-2019/)\n",
    "Only works for ge17"
   ]
  },
  {
   "cell_type": "code",
   "execution_count": 12,
   "metadata": {},
   "outputs": [],
   "source": [
    "mrp = score_campaigns_mrp(ge17)"
   ]
  },
  {
   "cell_type": "code",
   "execution_count": 13,
   "metadata": {},
   "outputs": [
    {
     "data": {
      "text/html": [
       "<div>\n",
       "<style scoped>\n",
       "    .dataframe tbody tr th:only-of-type {\n",
       "        vertical-align: middle;\n",
       "    }\n",
       "\n",
       "    .dataframe tbody tr th {\n",
       "        vertical-align: top;\n",
       "    }\n",
       "\n",
       "    .dataframe thead th {\n",
       "        text-align: right;\n",
       "    }\n",
       "</style>\n",
       "<table border=\"1\" class=\"dataframe\">\n",
       "  <thead>\n",
       "    <tr style=\"text-align: right;\">\n",
       "      <th></th>\n",
       "      <th>election_result</th>\n",
       "      <th>yougov_mrp</th>\n",
       "      <th>difference</th>\n",
       "    </tr>\n",
       "  </thead>\n",
       "  <tbody>\n",
       "    <tr>\n",
       "      <th>E14000530</th>\n",
       "      <td>0.316180</td>\n",
       "      <td>0.291</td>\n",
       "      <td>0.025180</td>\n",
       "    </tr>\n",
       "    <tr>\n",
       "      <th>E14000531</th>\n",
       "      <td>0.298496</td>\n",
       "      <td>0.293</td>\n",
       "      <td>0.005496</td>\n",
       "    </tr>\n",
       "    <tr>\n",
       "      <th>E14000532</th>\n",
       "      <td>0.388464</td>\n",
       "      <td>0.352</td>\n",
       "      <td>0.036464</td>\n",
       "    </tr>\n",
       "    <tr>\n",
       "      <th>E14000533</th>\n",
       "      <td>0.384296</td>\n",
       "      <td>0.407</td>\n",
       "      <td>-0.022704</td>\n",
       "    </tr>\n",
       "    <tr>\n",
       "      <th>E14000534</th>\n",
       "      <td>0.227197</td>\n",
       "      <td>0.219</td>\n",
       "      <td>0.008197</td>\n",
       "    </tr>\n",
       "  </tbody>\n",
       "</table>\n",
       "</div>"
      ],
      "text/plain": [
       "           election_result  yougov_mrp  difference\n",
       "E14000530         0.316180       0.291    0.025180\n",
       "E14000531         0.298496       0.293    0.005496\n",
       "E14000532         0.388464       0.352    0.036464\n",
       "E14000533         0.384296       0.407   -0.022704\n",
       "E14000534         0.227197       0.219    0.008197"
      ]
     },
     "execution_count": 13,
     "metadata": {},
     "output_type": "execute_result"
    }
   ],
   "source": [
    "mrp.head()"
   ]
  },
  {
   "cell_type": "code",
   "execution_count": null,
   "metadata": {},
   "outputs": [],
   "source": []
  }
 ],
 "metadata": {
  "kernelspec": {
   "display_name": "Python 3",
   "language": "python",
   "name": "python3"
  },
  "language_info": {
   "codemirror_mode": {
    "name": "ipython",
    "version": 3
   },
   "file_extension": ".py",
   "mimetype": "text/x-python",
   "name": "python",
   "nbconvert_exporter": "python",
   "pygments_lexer": "ipython3",
   "version": "3.6.8"
  }
 },
 "nbformat": 4,
 "nbformat_minor": 4
}

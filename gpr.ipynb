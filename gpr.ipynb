{
 "cells": [
  {
   "cell_type": "code",
   "execution_count": 1,
   "metadata": {},
   "outputs": [],
   "source": [
    "import matplotlib\n",
    "import numpy as np\n",
    "import pandas as pd\n",
    "import seaborn as sns\n",
    "import matplotlib.pyplot as plt\n",
    "from scipy import stats\n",
    "\n",
    "# Config\n",
    "sns.set(color_codes=True)\n",
    "pd.set_option(\"display.max_rows\", None)\n",
    "pd.set_option(\"display.max_columns\", None)"
   ]
  },
  {
   "cell_type": "code",
   "execution_count": 2,
   "metadata": {},
   "outputs": [],
   "source": [
    "from useful_functions import *"
   ]
  },
  {
   "cell_type": "markdown",
   "metadata": {},
   "source": [
    "## Score constituencies"
   ]
  },
  {
   "cell_type": "code",
   "execution_count": 3,
   "metadata": {},
   "outputs": [],
   "source": [
    "election_results = read_in_election_results() "
   ]
  },
  {
   "cell_type": "code",
   "execution_count": 4,
   "metadata": {},
   "outputs": [],
   "source": [
    "#Pick year of interest\n",
    "year = 19 # 2019 election\n",
    "compare_year = 17"
   ]
  },
  {
   "cell_type": "code",
   "execution_count": 5,
   "metadata": {},
   "outputs": [],
   "source": [
    "base = pd.DataFrame(election_results[year]['lab_pc'],\n",
    "                    index=election_results[year].index)\n",
    "diff = score_campaigns_difference(election_results[year], \n",
    "                                     election_results[compare_year])\n",
    "uns  = score_campaigns_uns(election_results[year], \n",
    "                              election_results[compare_year])\n",
    "mrp  = score_campaigns_mrp(election_results[year])"
   ]
  },
  {
   "cell_type": "code",
   "execution_count": 6,
   "metadata": {},
   "outputs": [
    {
     "data": {
      "text/html": [
       "<div>\n",
       "<style scoped>\n",
       "    .dataframe tbody tr th:only-of-type {\n",
       "        vertical-align: middle;\n",
       "    }\n",
       "\n",
       "    .dataframe tbody tr th {\n",
       "        vertical-align: top;\n",
       "    }\n",
       "\n",
       "    .dataframe thead th {\n",
       "        text-align: right;\n",
       "    }\n",
       "</style>\n",
       "<table border=\"1\" class=\"dataframe\">\n",
       "  <thead>\n",
       "    <tr style=\"text-align: right;\">\n",
       "      <th></th>\n",
       "      <th>Constituency</th>\n",
       "      <th>base</th>\n",
       "      <th>diff</th>\n",
       "      <th>uns</th>\n",
       "      <th>mrp</th>\n",
       "    </tr>\n",
       "  </thead>\n",
       "  <tbody>\n",
       "    <tr>\n",
       "      <th>E14000589</th>\n",
       "      <td>Bradford West</td>\n",
       "      <td>0.762206</td>\n",
       "      <td>4292.0</td>\n",
       "      <td>0.194483</td>\n",
       "      <td>0.222206</td>\n",
       "    </tr>\n",
       "    <tr>\n",
       "      <th>E14000884</th>\n",
       "      <td>Portsmouth South</td>\n",
       "      <td>0.486410</td>\n",
       "      <td>4778.0</td>\n",
       "      <td>0.155008</td>\n",
       "      <td>0.066410</td>\n",
       "    </tr>\n",
       "    <tr>\n",
       "      <th>E14000958</th>\n",
       "      <td>Southport</td>\n",
       "      <td>0.389518</td>\n",
       "      <td>3140.0</td>\n",
       "      <td>0.142657</td>\n",
       "      <td>0.079518</td>\n",
       "    </tr>\n",
       "    <tr>\n",
       "      <th>E14000780</th>\n",
       "      <td>Leeds North West</td>\n",
       "      <td>0.486395</td>\n",
       "      <td>3555.0</td>\n",
       "      <td>0.124321</td>\n",
       "      <td>-0.003605</td>\n",
       "    </tr>\n",
       "    <tr>\n",
       "      <th>E14000887</th>\n",
       "      <td>Putney</td>\n",
       "      <td>0.451384</td>\n",
       "      <td>3655.0</td>\n",
       "      <td>0.122549</td>\n",
       "      <td>0.111384</td>\n",
       "    </tr>\n",
       "  </tbody>\n",
       "</table>\n",
       "</div>"
      ],
      "text/plain": [
       "               Constituency      base    diff       uns       mrp\n",
       "E14000589     Bradford West  0.762206  4292.0  0.194483  0.222206\n",
       "E14000884  Portsmouth South  0.486410  4778.0  0.155008  0.066410\n",
       "E14000958         Southport  0.389518  3140.0  0.142657  0.079518\n",
       "E14000780  Leeds North West  0.486395  3555.0  0.124321 -0.003605\n",
       "E14000887            Putney  0.451384  3655.0  0.122549  0.111384"
      ]
     },
     "execution_count": 6,
     "metadata": {},
     "output_type": "execute_result"
    }
   ],
   "source": [
    "scores = pd.concat( [election_results[year]['Constituency'],\n",
    "                     base['lab_pc'], diff['difference'],uns['difference'],mrp['difference'] ],\n",
    "                    axis=1, verify_integrity=True, sort=True)\n",
    "scores.columns = ['Constituency','base','diff','uns','mrp']\n",
    "scores.sort_values('uns',ascending=False).head()"
   ]
  },
  {
   "cell_type": "code",
   "execution_count": 7,
   "metadata": {},
   "outputs": [
    {
     "data": {
      "text/html": [
       "<div>\n",
       "<style scoped>\n",
       "    .dataframe tbody tr th:only-of-type {\n",
       "        vertical-align: middle;\n",
       "    }\n",
       "\n",
       "    .dataframe tbody tr th {\n",
       "        vertical-align: top;\n",
       "    }\n",
       "\n",
       "    .dataframe thead th {\n",
       "        text-align: right;\n",
       "    }\n",
       "</style>\n",
       "<table border=\"1\" class=\"dataframe\">\n",
       "  <thead>\n",
       "    <tr style=\"text-align: right;\">\n",
       "      <th></th>\n",
       "      <th>base</th>\n",
       "      <th>diff</th>\n",
       "      <th>uns</th>\n",
       "      <th>mrp</th>\n",
       "    </tr>\n",
       "  </thead>\n",
       "  <tbody>\n",
       "    <tr>\n",
       "      <th>count</th>\n",
       "      <td>631.000000</td>\n",
       "      <td>630.000000</td>\n",
       "      <td>630.000000</td>\n",
       "      <td>631.000000</td>\n",
       "    </tr>\n",
       "    <tr>\n",
       "      <th>mean</th>\n",
       "      <td>0.338234</td>\n",
       "      <td>-4104.319048</td>\n",
       "      <td>-0.001100</td>\n",
       "      <td>0.010833</td>\n",
       "    </tr>\n",
       "    <tr>\n",
       "      <th>std</th>\n",
       "      <td>0.174771</td>\n",
       "      <td>2219.783948</td>\n",
       "      <td>0.041965</td>\n",
       "      <td>0.038639</td>\n",
       "    </tr>\n",
       "    <tr>\n",
       "      <th>min</th>\n",
       "      <td>0.037207</td>\n",
       "      <td>-13402.000000</td>\n",
       "      <td>-0.170037</td>\n",
       "      <td>-0.103353</td>\n",
       "    </tr>\n",
       "    <tr>\n",
       "      <th>25%</th>\n",
       "      <td>0.203217</td>\n",
       "      <td>-5270.000000</td>\n",
       "      <td>-0.020729</td>\n",
       "      <td>-0.014622</td>\n",
       "    </tr>\n",
       "    <tr>\n",
       "      <th>50%</th>\n",
       "      <td>0.326986</td>\n",
       "      <td>-4023.500000</td>\n",
       "      <td>0.003118</td>\n",
       "      <td>0.004545</td>\n",
       "    </tr>\n",
       "    <tr>\n",
       "      <th>75%</th>\n",
       "      <td>0.454827</td>\n",
       "      <td>-2800.750000</td>\n",
       "      <td>0.023518</td>\n",
       "      <td>0.030162</td>\n",
       "    </tr>\n",
       "    <tr>\n",
       "      <th>max</th>\n",
       "      <td>0.846810</td>\n",
       "      <td>4778.000000</td>\n",
       "      <td>0.194483</td>\n",
       "      <td>0.222206</td>\n",
       "    </tr>\n",
       "  </tbody>\n",
       "</table>\n",
       "</div>"
      ],
      "text/plain": [
       "             base          diff         uns         mrp\n",
       "count  631.000000    630.000000  630.000000  631.000000\n",
       "mean     0.338234  -4104.319048   -0.001100    0.010833\n",
       "std      0.174771   2219.783948    0.041965    0.038639\n",
       "min      0.037207 -13402.000000   -0.170037   -0.103353\n",
       "25%      0.203217  -5270.000000   -0.020729   -0.014622\n",
       "50%      0.326986  -4023.500000    0.003118    0.004545\n",
       "75%      0.454827  -2800.750000    0.023518    0.030162\n",
       "max      0.846810   4778.000000    0.194483    0.222206"
      ]
     },
     "execution_count": 7,
     "metadata": {},
     "output_type": "execute_result"
    }
   ],
   "source": [
    "scores.describe()"
   ]
  },
  {
   "cell_type": "code",
   "execution_count": 8,
   "metadata": {},
   "outputs": [],
   "source": [
    "# seats that labour won by, or were within a certain percentage of winning\n",
    "marginals = calc_marginal_within(0.10,election_results[compare_year])"
   ]
  },
  {
   "cell_type": "markdown",
   "metadata": {},
   "source": [
    "## Select demographic data to compare constituencies"
   ]
  },
  {
   "cell_type": "code",
   "execution_count": 9,
   "metadata": {},
   "outputs": [
    {
     "name": "stdout",
     "output_type": "stream",
     "text": [
      "650\n",
      "650\n"
     ]
    }
   ],
   "source": [
    "census = read_in_census()\n",
    "print(len(census))\n",
    "# only want rows we have election data for\n",
    "census = census.loc[election_results[year].index]\n",
    "print(len(census))"
   ]
  },
  {
   "cell_type": "code",
   "execution_count": 10,
   "metadata": {},
   "outputs": [],
   "source": [
    "features = ['c11PopulationDensity',\n",
    "            'c11HouseOwned',\n",
    "            'c11CarsNone',\n",
    "            'c11EthnicityWhite',\n",
    "            'c11Unemployed',\n",
    "            'c11Retired',\n",
    "            'c11FulltimeStudent',\n",
    "            'c11Age65to74',\n",
    "            'c11DeprivedNone']"
   ]
  },
  {
   "cell_type": "code",
   "execution_count": 11,
   "metadata": {},
   "outputs": [],
   "source": [
    "demographic_data = census[features]"
   ]
  },
  {
   "cell_type": "code",
   "execution_count": 12,
   "metadata": {},
   "outputs": [
    {
     "name": "stdout",
     "output_type": "stream",
     "text": [
      "Loss = 79\n"
     ]
    }
   ],
   "source": [
    "# a list of constituencies we have complete data for\n",
    "\n",
    "demographic_data = demographic_data.dropna()\n",
    "# Speaker seats have incomplete voting data\n",
    "demographic_data = demographic_data.drop([onsid_from_name('Chorley',election_results[year]),\n",
    "                                          onsid_from_name('Buckingham',election_results[year])])\n",
    "\n",
    "loss = set(census.index) - set(demographic_data.index)\n",
    "print('Loss =',len(loss))"
   ]
  },
  {
   "cell_type": "code",
   "execution_count": 13,
   "metadata": {},
   "outputs": [],
   "source": [
    "# Make some lookup containers\n",
    "constits_id = demographic_data.index\n",
    "constits_name = [name_from_onsid(i,election_results[year]) for i in constits_id]\n",
    "\n",
    "scores = scores.loc[constits_id] # only interested in these constits now\n",
    "\n",
    "constits_onsid_to_index = {onsid:i for i,onsid in enumerate(constits_id)}\n",
    "constits_name_to_index = {name:i for i,name in enumerate(constits_name)}"
   ]
  },
  {
   "cell_type": "markdown",
   "metadata": {},
   "source": [
    "## Predict using GPR, score on difference\n"
   ]
  },
  {
   "cell_type": "code",
   "execution_count": 14,
   "metadata": {},
   "outputs": [],
   "source": [
    "from sklearn.manifold import Isomap\n",
    "\n",
    "def transform_2d(constits):\n",
    "    embedding = Isomap(n_components=2)\n",
    "\n",
    "    X = demographic_data.loc[constits]\n",
    "    X_transformed = embedding.fit_transform(X)\n",
    "    x = pd.Series(X_transformed[:,0])\n",
    "    y = pd.Series(X_transformed[:,1])\n",
    "    return x,y\n",
    "\n",
    "def transform_1d(constits):\n",
    "    embedding = Isomap(n_components=1)\n",
    "    X = demographic_data.loc[constits]\n",
    "    X_transformed = embedding.fit_transform(X)\n",
    "    return pd.Series(X_transformed[:,0])"
   ]
  },
  {
   "cell_type": "code",
   "execution_count": 17,
   "metadata": {},
   "outputs": [
    {
     "data": {
      "text/plain": [
       "<matplotlib.axes._subplots.AxesSubplot at 0x1a1a3cc950>"
      ]
     },
     "execution_count": 17,
     "metadata": {},
     "output_type": "execute_result"
    },
    {
     "data": {
      "image/png": "[encoded data removed]",
      "text/plain": [
       "<Figure size 432x288 with 1 Axes>"
      ]
     },
     "metadata": {},
     "output_type": "display_data"
    }
   ],
   "source": [
    "x = transform_1d(constits_id)\n",
    "sns.scatterplot(x=x,y=scores['base'].values)"
   ]
  },
  {
   "cell_type": "code",
   "execution_count": 18,
   "metadata": {},
   "outputs": [
    {
     "ename": "NameError",
     "evalue": "name 'X' is not defined",
     "output_type": "error",
     "traceback": [
      "\u001b[0;31m---------------------------------------------------------------------------\u001b[0m",
      "\u001b[0;31mNameError\u001b[0m                                 Traceback (most recent call last)",
      "\u001b[0;32m<ipython-input-18-db81f32b7d50>\u001b[0m in \u001b[0;36m<module>\u001b[0;34m\u001b[0m\n\u001b[1;32m      5\u001b[0m \u001b[0;31m#values = preprocessing.scale(values)\u001b[0m\u001b[0;34m\u001b[0m\u001b[0;34m\u001b[0m\u001b[0;34m\u001b[0m\u001b[0m\n\u001b[1;32m      6\u001b[0m \u001b[0;34m\u001b[0m\u001b[0m\n\u001b[0;32m----> 7\u001b[0;31m \u001b[0mval\u001b[0m \u001b[0;34m=\u001b[0m \u001b[0mpd\u001b[0m\u001b[0;34m.\u001b[0m\u001b[0mSeries\u001b[0m\u001b[0;34m(\u001b[0m\u001b[0;34m[\u001b[0m\u001b[0mname_from_onsid\u001b[0m\u001b[0;34m(\u001b[0m\u001b[0mi\u001b[0m\u001b[0;34m,\u001b[0m\u001b[0melection_results\u001b[0m\u001b[0;34m[\u001b[0m\u001b[0myear\u001b[0m\u001b[0;34m]\u001b[0m\u001b[0;34m)\u001b[0m \u001b[0;32mfor\u001b[0m \u001b[0mi\u001b[0m \u001b[0;32min\u001b[0m \u001b[0mX\u001b[0m\u001b[0;34m.\u001b[0m\u001b[0mindex\u001b[0m\u001b[0;34m]\u001b[0m\u001b[0;34m)\u001b[0m\u001b[0;34m\u001b[0m\u001b[0;34m\u001b[0m\u001b[0m\n\u001b[0m\u001b[1;32m      8\u001b[0m \u001b[0ma\u001b[0m \u001b[0;34m=\u001b[0m \u001b[0mpd\u001b[0m\u001b[0;34m.\u001b[0m\u001b[0mconcat\u001b[0m\u001b[0;34m(\u001b[0m\u001b[0;34m{\u001b[0m\u001b[0;34m'x'\u001b[0m\u001b[0;34m:\u001b[0m \u001b[0mx\u001b[0m\u001b[0;34m,\u001b[0m \u001b[0;34m'y'\u001b[0m\u001b[0;34m:\u001b[0m \u001b[0my\u001b[0m\u001b[0;34m,\u001b[0m \u001b[0;34m'val'\u001b[0m\u001b[0;34m:\u001b[0m \u001b[0mval\u001b[0m\u001b[0;34m}\u001b[0m\u001b[0;34m,\u001b[0m \u001b[0maxis\u001b[0m\u001b[0;34m=\u001b[0m\u001b[0;36m1\u001b[0m\u001b[0;34m)\u001b[0m\u001b[0;34m\u001b[0m\u001b[0;34m\u001b[0m\u001b[0m\n\u001b[1;32m      9\u001b[0m \u001b[0;34m\u001b[0m\u001b[0m\n",
      "\u001b[0;31mNameError\u001b[0m: name 'X' is not defined"
     ]
    },
    {
     "data": {
      "image/png": "[encoded data removed]",
      "text/plain": [
       "<Figure size 576x576 with 1 Axes>"
      ]
     },
     "metadata": {},
     "output_type": "display_data"
    }
   ],
   "source": [
    "x,y = transform_2d(constits_id)\n",
    "   \n",
    "plt.figure(figsize=(8,8))\n",
    "ax = sns.scatterplot(x=x,y=y)\n",
    "#values = preprocessing.scale(values)\n",
    "\n",
    "val = pd.Series([name_from_onsid(i,election_results[year]) for i in X.index])\n",
    "a = pd.concat({'x': x, 'y': y, 'val': val}, axis=1)\n",
    "    \n",
    "for c in constits_id:\n",
    "    ax.text(x[constits_onsid_to_index[c]], y[constits_onsid_to_index[c]], name_from_onsid(c,election_results[year]))\n",
    "    #ax.text(point['x']+.001, point['y'], str(point['val']))"
   ]
  },
  {
   "cell_type": "code",
   "execution_count": 19,
   "metadata": {},
   "outputs": [],
   "source": [
    "from sklearn.gaussian_process import GaussianProcessRegressor\n",
    "from sklearn.gaussian_process.kernels import RBF, WhiteKernel"
   ]
  },
  {
   "cell_type": "code",
   "execution_count": 20,
   "metadata": {},
   "outputs": [],
   "source": [
    "kernel = 1.0 * RBF(length_scale=0.1, length_scale_bounds=(1e-4, 10)) \\\n",
    "    + WhiteKernel(noise_level=1e-2, noise_level_bounds=(1e-10, 1e+1))"
   ]
  },
  {
   "cell_type": "code",
   "execution_count": 21,
   "metadata": {},
   "outputs": [],
   "source": [
    "#kernel = 1.0 * RBF(length_scale=0.01)"
   ]
  },
  {
   "cell_type": "code",
   "execution_count": 22,
   "metadata": {},
   "outputs": [],
   "source": [
    "from sklearn import preprocessing\n",
    "X = preprocessing.scale(demographic_data)\n",
    "y = scores['uns'].values\n",
    "gp = GaussianProcessRegressor(kernel=kernel).fit(X, y, )"
   ]
  },
  {
   "cell_type": "code",
   "execution_count": 23,
   "metadata": {},
   "outputs": [
    {
     "data": {
      "text/plain": [
       "(array([0., 0., 0., 0.]),\n",
       " array([0.04600662, 0.04600662, 0.04600662, 0.04600662]))"
      ]
     },
     "execution_count": 23,
     "metadata": {},
     "output_type": "execute_result"
    }
   ],
   "source": [
    "gp.predict(demographic_data.iloc[range(4)], return_std=True)\n",
    "#gp.predict(np.arange(10).reshape(-1, 1), return_std=True)"
   ]
  },
  {
   "cell_type": "code",
   "execution_count": 24,
   "metadata": {},
   "outputs": [],
   "source": [
    "embedding = Isomap(n_components=1)\n",
    "embedding.fit(X)\n",
    "X_transformed = embedding.transform(X)\n",
    "x = pd.Series(X_transformed[:,0])"
   ]
  },
  {
   "cell_type": "code",
   "execution_count": 26,
   "metadata": {},
   "outputs": [
    {
     "data": {
      "text/plain": [
       "<ErrorbarContainer object of 3 artists>"
      ]
     },
     "execution_count": 26,
     "metadata": {},
     "output_type": "execute_result"
    },
    {
     "data": {
      "image/png": "[encoded data removed]",
      "text/plain": [
       "<Figure size 432x288 with 1 Axes>"
      ]
     },
     "metadata": {},
     "output_type": "display_data"
    }
   ],
   "source": [
    "y_mean, y_std = gp.predict(X, return_std=True)\n",
    "ax = sns.scatterplot(x=x,y=y)\n",
    "ax = sns.scatterplot(x=x,y=y_mean)\n",
    "ax.errorbar(x=x,y=y_mean,yerr=y_std,  fmt=' ', zorder=-1)"
   ]
  },
  {
   "cell_type": "code",
   "execution_count": null,
   "metadata": {},
   "outputs": [],
   "source": [
    "#y_mean,y_std"
   ]
  },
  {
   "cell_type": "code",
   "execution_count": 30,
   "metadata": {},
   "outputs": [
    {
     "data": {
      "text/plain": [
       "<matplotlib.axes._subplots.AxesSubplot at 0x1a1ea60a90>"
      ]
     },
     "execution_count": 30,
     "metadata": {},
     "output_type": "execute_result"
    },
    {
     "data": {
      "image/png": "[encoded data removed]",
      "text/plain": [
       "<Figure size 432x288 with 1 Axes>"
      ]
     },
     "metadata": {},
     "output_type": "display_data"
    }
   ],
   "source": [
    "sns.scatterplot(x=y,y=abs(y-y_mean))"
   ]
  },
  {
   "cell_type": "code",
   "execution_count": null,
   "metadata": {},
   "outputs": [],
   "source": []
  },
  {
   "cell_type": "code",
   "execution_count": null,
   "metadata": {},
   "outputs": [],
   "source": [
    "sns.distplot()"
   ]
  },
  {
   "cell_type": "code",
   "execution_count": null,
   "metadata": {},
   "outputs": [],
   "source": [
    "from sklearn import preprocessing\n",
    "from sklearn.metrics import pairwise_distances"
   ]
  },
  {
   "cell_type": "code",
   "execution_count": null,
   "metadata": {},
   "outputs": [],
   "source": [
    "X_scaled = preprocessing.scale(demographic_data)\n",
    "dist_matrix = pairwise_distances(X_scaled)\n",
    "sns.distplot(np.ndarray.flatten(dist_matrix))"
   ]
  },
  {
   "cell_type": "code",
   "execution_count": null,
   "metadata": {},
   "outputs": [],
   "source": [
    "scores['Constituency'].iloc[np.where(dist_matrix == np.max(dist_matrix))[0]]"
   ]
  },
  {
   "cell_type": "code",
   "execution_count": null,
   "metadata": {},
   "outputs": [],
   "source": [
    "def distance(X, cutoff=None):\n",
    "    return pairwise_distances(X)\n",
    "\n",
    "def distance_rescale_simple(X, cutoff):\n",
    "    dist_matrix = distance(X)\n",
    "    mask = dist_matrix > cutoff\n",
    "    dist_matrix[mask] = 0\n",
    "    return dist_matrix\n",
    "\n",
    "def distance_rescale(X, cutoff):\n",
    "    dist_matrix = distance(X)\n",
    "    n = len(dist_matrix)\n",
    "    for i in range(n):\n",
    "        for j in range(n):\n",
    "            if 0 < dist_matrix[i][j] < cutoff:\n",
    "                dist_matrix[i][j] = 1 / (cutoff - dist_matrix[i][j])\n",
    "            else: \n",
    "                dist_matrix[i][j] = 0\n",
    "    return dist_matrix\n",
    "\n",
    "def calc_significance_matrix(demographic_data, constit_score, \n",
    "                             dist_func=distance, cutoff=None):\n",
    "    X_scaled      = preprocessing.scale(demographic_data)\n",
    "    dist_matrix   = dist_func(X_scaled,cutoff)\n",
    "    constit_score = preprocessing.scale(constit_score)\n",
    "    score_matrix  = constit_score[:,np.newaxis] - constit_score\n",
    "    significance  = np.zeros(score_matrix.shape) # need to initialise all to zero\n",
    "    significance  = np.divide( score_matrix, dist_matrix, where=dist_matrix!=0)\n",
    "    return significance\n",
    "    \n",
    "def calc_campaign_conf(demographic_data, constit_score, \n",
    "                             dist_func=distance, cutoff=None):\n",
    "    assert np.all( demographic_data.index == constit_score.index )\n",
    "    significance = calc_significance_matrix(demographic_data, constit_score, dist_func, cutoff)\n",
    "    return pd.Series(np.sum(significance,1),index=constits_id)"
   ]
  },
  {
   "cell_type": "code",
   "execution_count": null,
   "metadata": {},
   "outputs": [],
   "source": []
  },
  {
   "cell_type": "code",
   "execution_count": null,
   "metadata": {},
   "outputs": [],
   "source": [
    "base = calc_campaign_conf(demographic_data, scores['base'])\n",
    "diff = calc_campaign_conf(demographic_data, scores['diff'])\n",
    "uns = calc_campaign_conf(demographic_data, scores['uns'])\n",
    "mrp = calc_campaign_conf(demographic_data, scores['mrp'])"
   ]
  },
  {
   "cell_type": "code",
   "execution_count": null,
   "metadata": {},
   "outputs": [],
   "source": [
    "cutoff = 2\n",
    "base_cut = calc_campaign_conf(demographic_data, scores['base'],distance_rescale_simple, cutoff)\n",
    "diff_cut = calc_campaign_conf(demographic_data, scores['diff'],distance_rescale_simple, cutoff)\n",
    "uns_cut  = calc_campaign_conf(demographic_data, scores['uns'],distance_rescale_simple, cutoff)\n",
    "mrp_cut  = calc_campaign_conf(demographic_data, scores['mrp'],distance_rescale_simple, cutoff)"
   ]
  },
  {
   "cell_type": "code",
   "execution_count": null,
   "metadata": {},
   "outputs": [],
   "source": [
    "cutoff = 2\n",
    "base_rescale = calc_campaign_conf(demographic_data, scores['base'],distance_rescale, cutoff)\n",
    "diff_rescale = calc_campaign_conf(demographic_data, scores['diff'],distance_rescale, cutoff)\n",
    "uns_rescale  = calc_campaign_conf(demographic_data, scores['uns'],distance_rescale, cutoff)\n",
    "mrp_rescale  = calc_campaign_conf(demographic_data, scores['mrp'],distance_rescale, cutoff)"
   ]
  },
  {
   "cell_type": "code",
   "execution_count": null,
   "metadata": {},
   "outputs": [],
   "source": [
    "results = pd.DataFrame({'constituency': constits_name,\n",
    "                        'base':base, 'diff': diff, 'uns': uns, 'mrp': mrp,\n",
    "                        'base_cut':base_cut,'diff_cut': diff_cut, 'uns_cut': uns_cut, 'mrp_cut': mrp_cut,\n",
    "                        'base_rescale':base_rescale,'diff_rescale': diff_rescale, 'uns_rescale': uns_rescale, 'mrp_rescale': mrp_rescale},\n",
    "                       index = constits_id)\n",
    "results.head(10)"
   ]
  },
  {
   "cell_type": "code",
   "execution_count": null,
   "metadata": {},
   "outputs": [],
   "source": [
    "from sklearn.metrics import r2_score\n"
   ]
  },
  {
   "cell_type": "markdown",
   "metadata": {},
   "source": [
    "use MRP score as reference"
   ]
  },
  {
   "cell_type": "code",
   "execution_count": null,
   "metadata": {},
   "outputs": [],
   "source": [
    "r2_score(\n",
    "    preprocessing.scale(scores['mrp']),\n",
    "    preprocessing.scale(results['uns_rescale'])\n",
    ")"
   ]
  },
  {
   "cell_type": "code",
   "execution_count": null,
   "metadata": {},
   "outputs": [],
   "source": [
    "sns.scatterplot(x=scores['mrp'],\n",
    "                y=results['uns'])"
   ]
  },
  {
   "cell_type": "code",
   "execution_count": null,
   "metadata": {},
   "outputs": [],
   "source": [
    "sns.scatterplot(x=scores['mrp'], y=results['uns_cut'])"
   ]
  },
  {
   "cell_type": "code",
   "execution_count": null,
   "metadata": {},
   "outputs": [],
   "source": [
    "sns.scatterplot(x=scores['diff'], y=results['diff'])"
   ]
  },
  {
   "cell_type": "code",
   "execution_count": null,
   "metadata": {},
   "outputs": [],
   "source": [
    "results.sort_values('diff_rescale',ascending=False).head(20)"
   ]
  },
  {
   "cell_type": "code",
   "execution_count": null,
   "metadata": {},
   "outputs": [],
   "source": []
  },
  {
   "cell_type": "code",
   "execution_count": null,
   "metadata": {},
   "outputs": [],
   "source": [
    "sns.scatterplot(scores['mrp'],results['mrp'])"
   ]
  },
  {
   "cell_type": "code",
   "execution_count": null,
   "metadata": {},
   "outputs": [],
   "source": [
    "sns.scatterplot(results['diff_rescale'],results['uns_rescale'])"
   ]
  },
  {
   "cell_type": "markdown",
   "metadata": {},
   "source": [
    "This cell is ment to plot constituencies by demographics, then draw lines between constits that contribute to its result."
   ]
  },
  {
   "cell_type": "code",
   "execution_count": null,
   "metadata": {
    "scrolled": true
   },
   "outputs": [],
   "source": [
    "#centre = 'Ellesmere Port & Neston'\n",
    "centre = 'Lancaster & Fleetwood'\n",
    "\n",
    "significance_matrix = calc_significance_matrix(demographic_data, scores['uns'])\n",
    "centre_i = constits_name_to_index[centre]\n",
    "contributions = significance_matrix[centre_i]\n",
    "\n",
    "# coi = constits of interest\n",
    "coi   = [onsid_from_name(centre,election_results[year])]\n",
    "linexs = []\n",
    "lineys = []\n",
    "values = []\n",
    "\n",
    "N = 5\n",
    "for i in np.flip(np.argsort(np.abs(contributions))[-N:]):\n",
    "    onsid = demographic_data.index[i]\n",
    "    coi += [onsid]\n",
    "    values += [contributions[i]]\n",
    "    print(contributions[i],name_from_onsid(onsid,election_results[year]))\n",
    "\n",
    "from sklearn.manifold import Isomap, LocallyLinearEmbedding, SpectralEmbedding, MDS, TSNE\n",
    "embedding = Isomap(n_components=2)\n",
    "\n",
    "X = demographic_data#[mask]\n",
    "X_transformed = embedding.fit_transform(X)\n",
    "x = pd.Series(X_transformed[:,0])\n",
    "y = pd.Series(X_transformed[:,1])\n",
    "\n",
    "for c in coi:\n",
    "    linexs += [ [x[centre_i],x[constits_onsid_to_index[c]] ] ]\n",
    "    lineys += [ [y[centre_i],y[constits_onsid_to_index[c]] ] ]\n",
    "    \n",
    "plt.figure(figsize=(8,8))\n",
    "ax = sns.scatterplot(x=x,y=y)\n",
    "#values = preprocessing.scale(values)\n",
    "for linex,liney,value in zip(linexs,lineys,values):\n",
    "    plt.plot(linex,liney,linewidth=value*2, color='blue')\n",
    "\n",
    "val = pd.Series([name_from_onsid(i,election_results[year]) for i in X.index])\n",
    "a = pd.concat({'x': x, 'y': y, 'val': val}, axis=1)\n",
    "    \n",
    "for c in coi:\n",
    "    ax.text(x[constits_onsid_to_index[c]], y[constits_onsid_to_index[c]], name_from_onsid(c,election_results[year]))\n",
    "    #ax.text(point['x']+.001, point['y'], str(point['val']))"
   ]
  },
  {
   "cell_type": "code",
   "execution_count": null,
   "metadata": {},
   "outputs": [],
   "source": [
    "from sklearn.manifold import Isomap\n",
    "embedding = Isomap(n_components=2)"
   ]
  },
  {
   "cell_type": "markdown",
   "metadata": {},
   "source": [
    "## Cluster"
   ]
  },
  {
   "cell_type": "code",
   "execution_count": null,
   "metadata": {},
   "outputs": [],
   "source": [
    "from sklearn import cluster, covariance, manifold\n",
    "from sklearn.cluster import AffinityPropagation\n",
    "\n",
    "from sklearn import preprocessing\n",
    "X = demographic_data\n",
    "X_scaled = preprocessing.scale(X)\n",
    "\n",
    "clustering = AffinityPropagation(verbose=True).fit(X)"
   ]
  },
  {
   "cell_type": "code",
   "execution_count": null,
   "metadata": {
    "scrolled": true
   },
   "outputs": [],
   "source": [
    "X = demographic_data.loc[marginals]\n",
    "sizes = results['uns'].loc[marginals]\n",
    "sizes = np.array(sizes) - min(sizes)\n",
    "hues = list(pd.Series(clustering.labels_,index=results.index)[marginals])\n",
    "\n",
    "from sklearn.manifold import Isomap, LocallyLinearEmbedding, SpectralEmbedding, MDS, TSNE\n",
    "\n",
    "embedding = Isomap(n_components=2)\n",
    "\n",
    "X_transformed = embedding.fit_transform(X)\n",
    "x = pd.Series(X_transformed[:,0])\n",
    "y = pd.Series(X_transformed[:,1])\n",
    "label = pd.Series([name_from_onsid(i,election_results[year]) for i in X.index])\n",
    "label.index=range(len(X_transformed))\n",
    "\n",
    "plt.figure(figsize=(8,8))\n",
    "ax = sns.scatterplot(x=x,y=y,\n",
    "                     size=sizes, sizes=(1, 1000),\n",
    "                     hue=hues, palette='Set1')\n",
    "a = pd.concat({'x': x, 'y': y, 'label': label}, axis=1)\n",
    "for i, point in a.iterrows():\n",
    "    ax.text(point['x']+.001, point['y'], str(point['label']))\n"
   ]
  },
  {
   "cell_type": "code",
   "execution_count": null,
   "metadata": {},
   "outputs": [],
   "source": [
    "sns.distplot(sizes)"
   ]
  },
  {
   "cell_type": "code",
   "execution_count": null,
   "metadata": {},
   "outputs": [],
   "source": []
  },
  {
   "cell_type": "code",
   "execution_count": null,
   "metadata": {},
   "outputs": [],
   "source": []
  },
  {
   "cell_type": "code",
   "execution_count": null,
   "metadata": {},
   "outputs": [],
   "source": []
  }
 ],
 "metadata": {
  "kernelspec": {
   "display_name": "Python 3",
   "language": "python",
   "name": "python3"
  },
  "language_info": {
   "codemirror_mode": {
    "name": "ipython",
    "version": 3
   },
   "file_extension": ".py",
   "mimetype": "text/x-python",
   "name": "python",
   "nbconvert_exporter": "python",
   "pygments_lexer": "ipython3",
   "version": "3.7.5"
  }
 },
 "nbformat": 4,
 "nbformat_minor": 2
}
